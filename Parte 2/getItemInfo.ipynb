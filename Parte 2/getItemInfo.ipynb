{
 "cells": [
  {
   "cell_type": "markdown",
   "metadata": {},
   "source": [
    "Realizar una análise sobre a oferta / vitrine das opções de productos que respondam a\n",
    "distintas buscar no site do Mercadolibre.com.ar\n",
    "Perguntas\n",
    "1) Varrer uma lista de mais de 150 itens ids no serviço público:\n",
    "https://api.mercadolibre.com/sites/MLA/search?q=chromecast&limit=50#json\n",
    "Nesse caso particular e somente como exemplo, são resultado para a busca\n",
    "“chromecast”, porém deverá eleger outros términos para o experimento que\n",
    "permitam enriquecer uma análise em um hipotético dashboard (ex: Google Home,\n",
    "Apple TV, Amazon Fire TV, e outros para poder comparar dispositivos portáteis, ou\n",
    "até mesmo eleger outros e que você tenha interesse em comparar).\n",
    "2) Para cada resultado, realizar o correspondente GET por Item_id no recurso publico:\n",
    "https://api.mercadolibre.com/items/{Item_Id}\n",
    "3) Escrever os resultados em um arquivo plano delimitado por vírgulas,\n",
    "desnormalizando o JSON obtido no passo anterior, em quantos campos sejam\n",
    "necessários para guardar as variáveis que te interesse modelar."
   ]
  },
  {
   "cell_type": "code",
   "execution_count": 427,
   "metadata": {},
   "outputs": [],
   "source": [
    "import pandas as pd\n",
    "import requests\n",
    "import json\n",
    "import math"
   ]
  },
  {
   "cell_type": "code",
   "execution_count": 428,
   "metadata": {},
   "outputs": [],
   "source": [
    "headers ={\n",
    "    \"Accept\": \"application/json\",\n",
    "    \"Content-Type\": \"application/json\",\n",
    "}\n"
   ]
  },
  {
   "cell_type": "code",
   "execution_count": 429,
   "metadata": {},
   "outputs": [],
   "source": [
    "# listing all search categories\n",
    "categories = [\n",
    "                'chromecast', \n",
    "                'apple tv', \n",
    "                'google home', \n",
    "                'amazon fire tv'\n",
    "                ]\n",
    "# initializing variables used in loop\n",
    "results = []\n",
    "\n",
    "for category in categories:\n",
    "    offset = 0\n",
    "    # for each category, we get their total results by making a api call limited for only one result \n",
    "    url = 'https://api.mercadolibre.com/sites/MLA/search?q={}&limit=1#json'.format(category)\n",
    "    response = requests.request(\n",
    "            'GET',\n",
    "            url,\n",
    "            headers = headers\n",
    "    ).json()\n",
    "    # within the response, we retrieve the total results by navegating in paging>total\n",
    "    total_itens = response.get('paging').get('total')\n",
    "    # using the total results, it's possible to determine the amount of iterations necessary to traverse the entire list divinding that number by 50 (limit).\n",
    "    iterations = math.ceil(total_itens/50)\n",
    "\n",
    "    # for each iteration, we make a api call changing the offset to navegate through the pages\n",
    "    for i in range(iterations):\n",
    "        url = 'https://api.mercadolibre.com/sites/MLA/search?q={}&limit=50&offset={}#json'.format(category,offset)\n",
    "        response = requests.request(\n",
    "            'GET',\n",
    "            url,\n",
    "            headers = headers\n",
    "        ).json()\n",
    "\n",
    "        # the result of each api call is stored in the results list\n",
    "        results = results + response['results']\n",
    "\n",
    "        offset = 50*i\n",
    "        i+=1\n",
    "\n",
    "# after traversing through all the categories, for each result in the results list we append it's id to the array_ids_to_search\n",
    "array_ids_to_search = []\n",
    "for result in results:\n",
    "    array_ids_to_search.append(result['id'])\n"
   ]
  },
  {
   "cell_type": "code",
   "execution_count": 430,
   "metadata": {},
   "outputs": [],
   "source": [
    "# since a product could appear in multiple categories results, it's best to remove the duplicates\n",
    "array_ids_to_search = list(dict.fromkeys(array_ids_to_search))"
   ]
  },
  {
   "cell_type": "code",
   "execution_count": 431,
   "metadata": {},
   "outputs": [],
   "source": [
    "array_items = []"
   ]
  },
  {
   "cell_type": "code",
   "execution_count": 432,
   "metadata": {},
   "outputs": [],
   "source": [
    "# for each value in the before mentioned array, we make a api call to retrieve the information from each item\n",
    "for item in array_ids_to_search:\n",
    "    url = 'https://api.mercadolibre.com/items/{}'.format(item)\n",
    "    response = requests.request(\n",
    "        'GET',\n",
    "        url,\n",
    "        headers = headers\n",
    "    )\n",
    "    a_json = response.json()\n",
    "    # appending the result to an array\n",
    "    array_items.append(a_json)"
   ]
  },
  {
   "cell_type": "code",
   "execution_count": 433,
   "metadata": {},
   "outputs": [],
   "source": [
    "# transforming the array into a dataframe for data manipulation\n",
    "df_items = pd.DataFrame(array_items)"
   ]
  },
  {
   "cell_type": "code",
   "execution_count": 434,
   "metadata": {},
   "outputs": [],
   "source": [
    "# with this function, we can transform fields in an array-like format into columns\n",
    "def transform_array_into_columns(row):\n",
    "    for i in range(len(row)-1):\n",
    "        df_items[row[i].get('id')] = row[i].get('value_name')\n"
   ]
  },
  {
   "cell_type": "code",
   "execution_count": 435,
   "metadata": {},
   "outputs": [
    {
     "data": {
      "text/plain": [
       "0      None\n",
       "1      None\n",
       "2      None\n",
       "3      None\n",
       "4      None\n",
       "       ... \n",
       "774    None\n",
       "775    None\n",
       "776    None\n",
       "777    None\n",
       "778    None\n",
       "Length: 779, dtype: object"
      ]
     },
     "execution_count": 435,
     "metadata": {},
     "output_type": "execute_result"
    }
   ],
   "source": [
    "# applying before mentioned function to applicable fields\n",
    "df_items.apply(lambda x: transform_array_into_columns(x['sale_terms']), axis=1)\n",
    "df_items.apply(lambda x: transform_array_into_columns(x['attributes']), axis=1)\n",
    "df_items.apply(lambda x: transform_array_into_columns(x['variations']), axis=1)"
   ]
  },
  {
   "cell_type": "code",
   "execution_count": 436,
   "metadata": {},
   "outputs": [],
   "source": [
    "# for the other nested fields, it's a simple navigation \n",
    "df_items['shipping_mode'] = df_items.apply(lambda x: x['shipping'].get('mode'), axis=1)\n",
    "df_items['free_shipping'] = df_items.apply(lambda x: x['shipping'].get('free_shipping'), axis=1)\n",
    "df_items['logistic_type'] = df_items.apply(lambda x: x['shipping'].get('logistic_type'), axis=1)"
   ]
  },
  {
   "cell_type": "code",
   "execution_count": 437,
   "metadata": {},
   "outputs": [],
   "source": [
    "df_items['seller_city'] = df_items.apply(lambda x: x['seller_address'].get('city').get('name'), axis=1)\n",
    "df_items['seller_state'] = df_items.apply(lambda x: x['seller_address'].get('state').get('name'), axis=1)\n",
    "df_items['seller_country'] = df_items.apply(lambda x: x['seller_address'].get('country').get('name'), axis=1)"
   ]
  },
  {
   "cell_type": "code",
   "execution_count": 438,
   "metadata": {},
   "outputs": [],
   "source": [
    "# removing columns and cleaning the dataframe\n",
    "df_items.drop(columns = [\n",
    "                        'thumbnail_id', \n",
    "                        'thumbnail', \n",
    "                        'pictures', \n",
    "                        'video_id', \n",
    "                        'descriptions',\n",
    "                        'non_mercado_pago_payment_methods',\n",
    "                        'seller_contact',\n",
    "                        'location',\n",
    "                        'coverage_areas',\n",
    "                        'listing_source',\n",
    "                        'sub_status',\n",
    "                        'catalog_product_id',\n",
    "                        'deal_ids',\n",
    "                        'automatic_relist',\n",
    "                        'sale_terms',\n",
    "                        'shipping',\n",
    "                        'seller_address',\n",
    "                        'attributes',\n",
    "                        'variations',\n",
    "                        'tags',\n",
    "                        'warranty',\n",
    "                        'catalog_listing',\n",
    "                        'ALPHANUMERIC_MODEL',\n",
    "                        'DEVICE_FORMAT',\n",
    "                        'DEVICE_OPERATING_VOLTAGE',\n",
    "                        'FREQUENCIES',\n",
    "                        'GTIN',\n",
    "                        'HEIGHT',\n",
    "                        'LENGTH',\n",
    "                        'MAX_VIDEO_RESOLUTION',\n",
    "                        'MIN_OPERATING_SYSTEMS_REQUIRED',\n",
    "                        'RECOMMENDED_DEVICES',\n",
    "                        'SELLER_SKU', \n",
    "                        'WEIGHT',\n",
    "                        'WIDTH',\n",
    "                        'LINE', \n",
    "                        'MPN', \n",
    "                        'REMOTE_CONTROL_TYPE',\n",
    "                        'ANATEL_HOMOLOGATION_NUMBER', \n",
    "                        'PACKAGE_HEIGHT', \n",
    "                        'PACKAGE_LENGTH',\n",
    "                        'PACKAGE_WEIGHT', \n",
    "                        'PACKAGE_WIDTH',\n",
    "                        'PRODUCT_FEATURES',\n",
    "                        'SHIPMENT_PACKING', \n",
    "                        'EMPTY_GTIN_REASON', \n",
    "                        'INCLUDES_POWER_ADAPTER',\n",
    "                        'IS_KIT', \n",
    "                        'PRODUCT_DATA_SOURCE', \n",
    "                        'ADDITIONAL_INFO_REQUIRED',\n",
    "                        'PRODUCT_TYPE',\n",
    "                        'SIZE'\n",
    "                        ], inplace = True) "
   ]
  },
  {
   "cell_type": "code",
   "execution_count": 439,
   "metadata": {},
   "outputs": [],
   "source": [
    "# saving the result into a csv\n",
    "df_items.to_csv('Items.csv',sep=',', index=False, encoding='utf-8-sig')"
   ]
  }
 ],
 "metadata": {
  "kernelspec": {
   "display_name": "Python 3",
   "language": "python",
   "name": "python3"
  },
  "language_info": {
   "codemirror_mode": {
    "name": "ipython",
    "version": 3
   },
   "file_extension": ".py",
   "mimetype": "text/x-python",
   "name": "python",
   "nbconvert_exporter": "python",
   "pygments_lexer": "ipython3",
   "version": "3.10.2"
  }
 },
 "nbformat": 4,
 "nbformat_minor": 2
}
